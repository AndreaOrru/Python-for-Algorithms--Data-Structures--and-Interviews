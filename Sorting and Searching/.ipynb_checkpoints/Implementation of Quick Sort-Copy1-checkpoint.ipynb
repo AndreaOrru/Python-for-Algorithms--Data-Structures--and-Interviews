{
 "cells": [
  {
   "cell_type": "markdown",
   "metadata": {},
   "source": [
    "# Implementation of Quick Sort\n",
    "\n",
    "A quick sort first selects a value, which is called the pivot value. Although there are many different ways to choose the pivot value, we will simply use the first item in the list. The role of the pivot value is to assist with splitting the list. The actual position where the pivot value belongs in the final sorted list, commonly called the split point, will be used to divide the list for subsequent calls to the quick sort."
   ]
  },
  {
   "cell_type": "markdown",
   "metadata": {},
   "source": [
    "# Resources for Review\n",
    "\n",
    "Check out the resources below for a review of Insertion sort!\n",
    "\n",
    "* [Wikipedia](https://en.wikipedia.org/wiki/Quicksort)\n",
    "* [Visual Algo](http://visualgo.net/sorting.html)\n",
    "* [Sorting Algorithms Animcation with Pseudocode](http://www.sorting-algorithms.com/quick-sort)"
   ]
  },
  {
   "cell_type": "code",
   "execution_count": 5,
   "metadata": {},
   "outputs": [],
   "source": [
    "def quick_sort(arr):\n",
    "    quick_sort_helper(arr, 0, len(arr) - 1)\n",
    "\n",
    "def quick_sort_helper(arr, first, last):\n",
    "    if first < last:\n",
    "        split_point = partition(arr, first, last)\n",
    "        quick_sort_helper(arr, first, split_point - 1)\n",
    "        quick_sort_helper(arr, split_point + 1, last)\n",
    "        \n",
    "def partition(arr, first, last):\n",
    "    pivot = arr[first]\n",
    "    left_mark = first + 1\n",
    "    right_mark = last\n",
    "    \n",
    "    while True:\n",
    "        while left_mark <= right_mark and arr[left_mark] <= pivot:\n",
    "            left_mark += 1\n",
    "        while left_mark <= right_mark and arr[right_mark] > pivot:\n",
    "            right_mark -= 1\n",
    "            \n",
    "        if right_mark < left_mark:\n",
    "            break\n",
    "            \n",
    "        arr[left_mark], arr[right_mark] = arr[right_mark], arr[left_mark]\n",
    "        \n",
    "    arr[first], arr[right_mark] = arr[right_mark], arr[first]\n",
    "    return right_mark"
   ]
  },
  {
   "cell_type": "code",
   "execution_count": 6,
   "metadata": {},
   "outputs": [
    {
     "data": {
      "text/plain": [
       "[1, 2, 3, 4, 4, 5, 6, 7, 11, 12]"
      ]
     },
     "execution_count": 6,
     "metadata": {},
     "output_type": "execute_result"
    }
   ],
   "source": [
    "arr = [2,5,4,6,7,3,1,4,12,11]\n",
    "quick_sort(arr)\n",
    "arr"
   ]
  },
  {
   "cell_type": "markdown",
   "metadata": {},
   "source": [
    "# Good Job!"
   ]
  }
 ],
 "metadata": {
  "kernelspec": {
   "display_name": "Python 3",
   "language": "python",
   "name": "python3"
  },
  "language_info": {
   "codemirror_mode": {
    "name": "ipython",
    "version": 3
   },
   "file_extension": ".py",
   "mimetype": "text/x-python",
   "name": "python",
   "nbconvert_exporter": "python",
   "pygments_lexer": "ipython3",
   "version": "3.8.1"
  }
 },
 "nbformat": 4,
 "nbformat_minor": 1
}

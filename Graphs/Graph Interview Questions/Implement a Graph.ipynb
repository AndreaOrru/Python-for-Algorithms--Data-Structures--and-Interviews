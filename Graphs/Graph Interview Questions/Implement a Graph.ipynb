{
 "cells": [
  {
   "cell_type": "markdown",
   "metadata": {},
   "source": [
    "# Implement a Graph Class!\n",
    "\n",
    "That's it! \n",
    "\n",
    "Best of luck and reference the video lecture for any questions!\n",
    "\n",
    "You have to fully worked out implementations in the lectures, so make sure to refer to them!"
   ]
  },
  {
   "cell_type": "markdown",
   "metadata": {},
   "source": [
    "# Good Luck!"
   ]
  },
  {
   "cell_type": "code",
   "execution_count": 5,
   "metadata": {},
   "outputs": [],
   "source": [
    "class Node:\n",
    "    def __init__(self, key):\n",
    "        self.key = key\n",
    "        self.adjacent = {}\n",
    "\n",
    "    def __str__(self):\n",
    "        return f'{self.key}, connected to: {self.adjacent}'\n",
    "        \n",
    "class Graph:\n",
    "    def __init__(self):\n",
    "        self.nodes = {}\n",
    "        \n",
    "    def add_node(self, key):\n",
    "        node = Node(key)\n",
    "        self.nodes[key] = node\n",
    "        return node\n",
    "    \n",
    "    def add_edge(self, src, dest, weight=0):\n",
    "        if src not in self.nodes:\n",
    "            self.nodes[src] = Node(src)\n",
    "        if dest not in self.nodes:\n",
    "            self.nodes[dest] = Node(dest)\n",
    "        self.nodes[src].adjacent[dest] = weight"
   ]
  },
  {
   "cell_type": "code",
   "execution_count": 11,
   "metadata": {},
   "outputs": [
    {
     "name": "stdout",
     "output_type": "stream",
     "text": [
      "{0: <__main__.Node object at 0x7f76a10d6220>, 1: <__main__.Node object at 0x7f76a11f0cd0>, 2: <__main__.Node object at 0x7f76b04cdb80>, 3: <__main__.Node object at 0x7f76a11f0fd0>}\n",
      "\n",
      "1, connected to: {2: 0, 3: 0}\n"
     ]
    }
   ],
   "source": [
    "g = Graph()\n",
    "g.add_edge(0, 1)\n",
    "g.add_edge(2, 3)\n",
    "g.add_edge(1, 2)\n",
    "g.add_edge(1, 3)\n",
    "\n",
    "print(g.nodes)\n",
    "print()\n",
    "print(g.nodes[1])"
   ]
  },
  {
   "cell_type": "code",
   "execution_count": null,
   "metadata": {},
   "outputs": [],
   "source": []
  }
 ],
 "metadata": {
  "kernelspec": {
   "display_name": "Python 3",
   "language": "python",
   "name": "python3"
  },
  "language_info": {
   "codemirror_mode": {
    "name": "ipython",
    "version": 3
   },
   "file_extension": ".py",
   "mimetype": "text/x-python",
   "name": "python",
   "nbconvert_exporter": "python",
   "pygments_lexer": "ipython3",
   "version": "3.8.1"
  }
 },
 "nbformat": 4,
 "nbformat_minor": 1
}

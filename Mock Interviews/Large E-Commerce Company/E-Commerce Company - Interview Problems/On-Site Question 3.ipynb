{
 "cells": [
  {
   "cell_type": "markdown",
   "metadata": {},
   "source": [
    "# On-Site Question 3\n",
    "\n",
    "## Problem\n",
    "\n",
    "**Given two rectangles, determine if they overlap. The rectangles are defined as a Dictionary, for example:**"
   ]
  },
  {
   "cell_type": "code",
   "execution_count": 1,
   "metadata": {},
   "outputs": [],
   "source": [
    "r1 = {\n",
    "    \n",
    "         # x and y coordinates of the bottom-left corner of the rectangle\n",
    "         'x': 2 , 'y': 4,\n",
    "         \n",
    "         # Width and Height of rectangle\n",
    "         'w':5,'h':12}"
   ]
  },
  {
   "cell_type": "markdown",
   "metadata": {},
   "source": [
    "** If the rectangles do overlap, return the dictionary which describes the overlapping section**"
   ]
  },
  {
   "cell_type": "markdown",
   "metadata": {},
   "source": [
    "## Requirements\n",
    "\n",
    "** Make sure the dictionary you output is in the same form as the input.**\n",
    "\n",
    "** Feel free to use an IDE for the code, but make sure you use paper/pencil or whiteboard to draw out your plan and logic**"
   ]
  },
  {
   "cell_type": "markdown",
   "metadata": {},
   "source": [
    "# Good Luck!"
   ]
  },
  {
   "cell_type": "code",
   "execution_count": 31,
   "metadata": {},
   "outputs": [],
   "source": [
    "def rect_overlap_dim(x1, w1, x2, w2):\n",
    "    #\n",
    "    # x1-----------------x1+w1\n",
    "    #        x2-----------------x2+w2\n",
    "    #\n",
    "    #\n",
    "    #        x1-----------------x1+w1\n",
    "    # x2-----------------x2+w2\n",
    "    #\n",
    "    \n",
    "    begin = max(x1, x2)\n",
    "    end = min(x1 + w1, x2 + w2)\n",
    "    \n",
    "    if begin >= end:\n",
    "        return None, None\n",
    "    \n",
    "    return begin, end - begin\n",
    "    \n",
    "\n",
    "def rect_overlap(r1, r2):\n",
    "    x1, y1, w1, h1 = r1['x'], r1['y'], r1['w'], r1['h']\n",
    "    x2, y2, w2, h2 = r2['x'], r2['y'], r2['w'], r2['h']\n",
    "    \n",
    "    x, w = rect_overlap_dim(x1, w1, x2, w2)\n",
    "    y, h = rect_overlap_dim(y1, h1, y2, h2)\n",
    "    \n",
    "    if not w or not h:\n",
    "        return None\n",
    "    \n",
    "    return {\n",
    "        'x': x,\n",
    "        'y': y,\n",
    "        'w': w,\n",
    "        'h': h,\n",
    "    }"
   ]
  },
  {
   "cell_type": "code",
   "execution_count": 32,
   "metadata": {},
   "outputs": [
    {
     "data": {
      "text/plain": [
       "{'x': 5, 'y': 5, 'w': 10, 'h': 5}"
      ]
     },
     "execution_count": 32,
     "metadata": {},
     "output_type": "execute_result"
    }
   ],
   "source": [
    "# One rectangle inside the other.\n",
    "\n",
    "r1 = {\n",
    "    'x':  0,\n",
    "    'y':  0,\n",
    "    'w': 20,\n",
    "    'h': 10,\n",
    "}\n",
    "\n",
    "r2 = {\n",
    "    'x': 5,\n",
    "    'y': 5,\n",
    "    'w': 10,\n",
    "    'h': 5,\n",
    "}\n",
    "\n",
    "assert rect_overlap(r1, r2) == rect_overlap(r2, r1)\n",
    "rect_overlap(r1, r2)"
   ]
  },
  {
   "cell_type": "code",
   "execution_count": 33,
   "metadata": {},
   "outputs": [
    {
     "data": {
      "text/plain": [
       "{'x': 5, 'y': 5, 'w': 15, 'h': 5}"
      ]
     },
     "execution_count": 33,
     "metadata": {},
     "output_type": "execute_result"
    }
   ],
   "source": [
    "# One rectangle partially inside the other.\n",
    "\n",
    "r1 = {\n",
    "    'x':  0,\n",
    "    'y':  0,\n",
    "    'w': 20,\n",
    "    'h': 10,\n",
    "}\n",
    "\n",
    "r2 = {\n",
    "    'x': 5,\n",
    "    'y': 5,\n",
    "    'w': 30,\n",
    "    'h': 5,\n",
    "}\n",
    "\n",
    "assert rect_overlap(r1, r2) == rect_overlap(r2, r1)\n",
    "rect_overlap(r1, r2)"
   ]
  },
  {
   "cell_type": "code",
   "execution_count": 34,
   "metadata": {},
   "outputs": [
    {
     "data": {
      "text/plain": [
       "{'x': 15, 'y': 15, 'w': 10, 'h': 10}"
      ]
     },
     "execution_count": 34,
     "metadata": {},
     "output_type": "execute_result"
    }
   ],
   "source": [
    "# Cross.\n",
    "\n",
    "r1 = {\n",
    "    'x': 15,\n",
    "    'y':  0,\n",
    "    'w': 10,\n",
    "    'h': 40,\n",
    "}\n",
    "\n",
    "r2 = {\n",
    "    'x':  0,\n",
    "    'y': 15,\n",
    "    'w': 40,\n",
    "    'h': 10,\n",
    "}\n",
    "\n",
    "\n",
    "assert rect_overlap(r1, r2) == rect_overlap(r2, r1)\n",
    "rect_overlap(r1, r2)"
   ]
  },
  {
   "cell_type": "code",
   "execution_count": 35,
   "metadata": {},
   "outputs": [],
   "source": [
    "# No overlap.\n",
    "\n",
    "r1 = {\n",
    "    'x':  0,\n",
    "    'y':  0,\n",
    "    'w': 10,\n",
    "    'h': 10,\n",
    "}\n",
    "\n",
    "r2 = {\n",
    "    'x': 50,\n",
    "    'y': 50,\n",
    "    'w': 10,\n",
    "    'h': 10,\n",
    "}\n",
    "\n",
    "\n",
    "assert rect_overlap(r1, r2) == rect_overlap(r2, r1)\n",
    "rect_overlap(r1, r2)"
   ]
  },
  {
   "cell_type": "code",
   "execution_count": 36,
   "metadata": {},
   "outputs": [],
   "source": [
    "# Sharing an edge.\n",
    "\n",
    "r1 = {\n",
    "    'x':  0,\n",
    "    'y':  0,\n",
    "    'w': 10,\n",
    "    'h': 10,\n",
    "}\n",
    "\n",
    "r2 = {\n",
    "    'x': 10,\n",
    "    'y': 10,\n",
    "    'w': 10,\n",
    "    'h': 10,\n",
    "}\n",
    "\n",
    "\n",
    "assert rect_overlap(r1, r2) == rect_overlap(r2, r1)\n",
    "rect_overlap(r1, r2)"
   ]
  },
  {
   "cell_type": "code",
   "execution_count": null,
   "metadata": {},
   "outputs": [],
   "source": []
  }
 ],
 "metadata": {
  "kernelspec": {
   "display_name": "Python 3",
   "language": "python",
   "name": "python3"
  },
  "language_info": {
   "codemirror_mode": {
    "name": "ipython",
    "version": 3
   },
   "file_extension": ".py",
   "mimetype": "text/x-python",
   "name": "python",
   "nbconvert_exporter": "python",
   "pygments_lexer": "ipython3",
   "version": "3.8.1"
  }
 },
 "nbformat": 4,
 "nbformat_minor": 1
}

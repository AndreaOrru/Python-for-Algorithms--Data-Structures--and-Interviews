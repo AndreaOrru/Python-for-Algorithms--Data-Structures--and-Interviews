{
 "cells": [
  {
   "cell_type": "markdown",
   "metadata": {},
   "source": [
    "# On-Site Question 1 \n",
    "\n",
    "## Problem\n",
    "\n",
    "** Given a list of integers, find the largest product you could make from 3 integers in the list **\n",
    "\n",
    "## Requirements\n",
    "\n",
    "** You can assume that the list will always have at least 3 integers **\n",
    "\n",
    "** Paper/pencil only, don't code this out until you've solved it as far as you can by hand. **"
   ]
  },
  {
   "cell_type": "markdown",
   "metadata": {},
   "source": [
    "# Good Luck!"
   ]
  },
  {
   "cell_type": "code",
   "execution_count": 25,
   "metadata": {},
   "outputs": [],
   "source": [
    "def largest_product(arr):\n",
    "    assert len(arr) >= 3\n",
    "    \n",
    "    max1 = max2 = max3 = None\n",
    "    min1 = min2 = None\n",
    "    \n",
    "    for el in arr:\n",
    "        if max1 is None or el > max1:\n",
    "            max3 = max2\n",
    "            max2 = max1\n",
    "            max1 = el\n",
    "        elif max2 is None or el > max2:\n",
    "            max3 = max2\n",
    "            max2 = el\n",
    "        elif max3 is None or el > max3:\n",
    "            max3 = el\n",
    "        \n",
    "        if min1 is None or el < min1:\n",
    "            min2 = min1\n",
    "            min1 = el\n",
    "        elif min2 is None or el < min2:\n",
    "            min2 = el\n",
    "            \n",
    "    a = max1 * max2 * max3\n",
    "    b = min1 * min2 * max1\n",
    "    \n",
    "    if a > b:\n",
    "        return (max1, max2, max3), a\n",
    "    else:\n",
    "        return (min1, min2, max1), b"
   ]
  },
  {
   "cell_type": "code",
   "execution_count": 26,
   "metadata": {},
   "outputs": [
    {
     "data": {
      "text/plain": [
       "((-3, -2, 1), 6)"
      ]
     },
     "execution_count": 26,
     "metadata": {},
     "output_type": "execute_result"
    }
   ],
   "source": [
    "largest_product([-1, -2, -3, 1])"
   ]
  },
  {
   "cell_type": "code",
   "execution_count": 27,
   "metadata": {},
   "outputs": [
    {
     "data": {
      "text/plain": [
       "((-94, -82, 99), 763092)"
      ]
     },
     "execution_count": 27,
     "metadata": {},
     "output_type": "execute_result"
    }
   ],
   "source": [
    "l = [99,-82,82,40,75,-24,39, -82, 5, 30, -25, -94, 93, -23, 48, 50, 49,-81,41,63]\n",
    "largest_product(l)"
   ]
  },
  {
   "cell_type": "code",
   "execution_count": null,
   "metadata": {},
   "outputs": [],
   "source": []
  }
 ],
 "metadata": {
  "kernelspec": {
   "display_name": "Python 3",
   "language": "python",
   "name": "python3"
  },
  "language_info": {
   "codemirror_mode": {
    "name": "ipython",
    "version": 3
   },
   "file_extension": ".py",
   "mimetype": "text/x-python",
   "name": "python",
   "nbconvert_exporter": "python",
   "pygments_lexer": "ipython3",
   "version": "3.8.2"
  }
 },
 "nbformat": 4,
 "nbformat_minor": 1
}

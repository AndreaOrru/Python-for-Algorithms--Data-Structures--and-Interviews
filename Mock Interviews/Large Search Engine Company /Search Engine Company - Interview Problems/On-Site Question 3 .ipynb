{
 "cells": [
  {
   "cell_type": "markdown",
   "metadata": {},
   "source": [
    "# On-Site Question 3 \n",
    "\n",
    "## Question\n",
    "\n",
    "**Given a string, write a function that uses recursion to reverse it. **\n",
    "\n",
    "## Requirements\n",
    "\n",
    "** You MUST use pen and paper or a whiteboard to answer this, no coding allowed! **"
   ]
  },
  {
   "cell_type": "markdown",
   "metadata": {},
   "source": [
    "def reverse(s):\n",
    "    if len(s) <= 1:\n",
    "        return s\n",
    "    return reverse(s[1:]) + s[0]"
   ]
  },
  {
   "cell_type": "markdown",
   "metadata": {},
   "source": [
    "# Good Luck!"
   ]
  }
 ],
 "metadata": {
  "kernelspec": {
   "display_name": "Python 3",
   "language": "python",
   "name": "python3"
  },
  "language_info": {
   "codemirror_mode": {
    "name": "ipython",
    "version": 3
   },
   "file_extension": ".py",
   "mimetype": "text/x-python",
   "name": "python",
   "nbconvert_exporter": "python",
   "pygments_lexer": "ipython3",
   "version": "3.8.2"
  }
 },
 "nbformat": 4,
 "nbformat_minor": 1
}

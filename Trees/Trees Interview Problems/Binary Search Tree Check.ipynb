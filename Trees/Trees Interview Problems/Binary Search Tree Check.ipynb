{
 "cells": [
  {
   "cell_type": "markdown",
   "metadata": {},
   "source": [
    "# Binary Search Tree Check \n",
    "\n",
    "## Problem Statement\n",
    "\n",
    "Given a binary tree, check whether it’s a binary search tree or not.\n",
    "\n",
    "** Again, no solution cell, just worry about your code making sense logically. Hint: Think about tree traversals. **\n",
    "\n",
    "## Solution\n",
    "\n",
    "Fill out your solution below:"
   ]
  },
  {
   "cell_type": "code",
   "execution_count": 12,
   "metadata": {},
   "outputs": [],
   "source": [
    "class Node:\n",
    "    def __init__(self, key):\n",
    "        self.key = key\n",
    "        self.left = None\n",
    "        self.right = None\n",
    "\n",
    "def in_order(node):\n",
    "    if not node:\n",
    "        return []\n",
    "    array = in_order(node.left)\n",
    "    array.append(node.key)\n",
    "    array += in_order(node.right)\n",
    "    return array\n",
    "        \n",
    "def bst_check2(node):\n",
    "    array = in_order(node)\n",
    "    for i in range(len(array) - 1):\n",
    "        if not array[i] <= array[i+1]:\n",
    "            return False\n",
    "    return True\n",
    "\n",
    "def bst_check(node, min_node = None, max_node = None):\n",
    "    if not node:\n",
    "        return True\n",
    "    \n",
    "    if min_node and node.key < min_node.key:\n",
    "        return False\n",
    "    \n",
    "    if max_node and node.key > max_node.key:\n",
    "        return False\n",
    "    \n",
    "    return bst_check(node.left, min_node, node) and bst_check(node.right, node, max_node)"
   ]
  },
  {
   "cell_type": "code",
   "execution_count": 13,
   "metadata": {},
   "outputs": [
    {
     "name": "stdout",
     "output_type": "stream",
     "text": [
      "False\n"
     ]
    }
   ],
   "source": [
    "tree = Node(5)\n",
    "tree.left = Node(3)\n",
    "tree.right = Node(7)\n",
    "\n",
    "tree.left.left = Node(1)\n",
    "tree.left.right = Node(7)\n",
    "\n",
    "print(bst_check(tree))"
   ]
  },
  {
   "cell_type": "markdown",
   "metadata": {},
   "source": [
    "This is a classic interview problem, so feel free to just Google search \"Validate BST\" for more information on this problem!"
   ]
  }
 ],
 "metadata": {
  "kernelspec": {
   "display_name": "Python 3",
   "language": "python",
   "name": "python3"
  },
  "language_info": {
   "codemirror_mode": {
    "name": "ipython",
    "version": 3
   },
   "file_extension": ".py",
   "mimetype": "text/x-python",
   "name": "python",
   "nbconvert_exporter": "python",
   "pygments_lexer": "ipython3",
   "version": "3.8.1"
  }
 },
 "nbformat": 4,
 "nbformat_minor": 1
}
